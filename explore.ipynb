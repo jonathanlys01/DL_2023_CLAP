{
 "cells": [
  {
   "cell_type": "markdown",
   "metadata": {},
   "source": [
    "Notebook to explore the data and create the torch Dataset for the 3 datasets."
   ]
  },
  {
   "cell_type": "code",
   "execution_count": 1,
   "metadata": {},
   "outputs": [],
   "source": [
    "v = False # Set to True to see more output"
   ]
  },
  {
   "cell_type": "code",
   "execution_count": 2,
   "metadata": {},
   "outputs": [],
   "source": [
    "import os\n",
    "import pandas as pd"
   ]
  },
  {
   "cell_type": "code",
   "execution_count": 3,
   "metadata": {},
   "outputs": [],
   "source": [
    "if v:print(os.listdir(\"downloads\"))\n",
    "# [\"ESC-50-master\", \"fma_metadata\", \"fma_small\", \"UrbanSound8K\"]"
   ]
  },
  {
   "cell_type": "code",
   "execution_count": 4,
   "metadata": {},
   "outputs": [],
   "source": [
    "df_urbansound = pd.read_csv(\"downloads/UrbanSound8K/metadata/UrbanSound8K.csv\")\n",
    "\n",
    "if v:print(df_urbansound[\"class\"].value_counts())"
   ]
  },
  {
   "cell_type": "code",
   "execution_count": 5,
   "metadata": {},
   "outputs": [],
   "source": [
    "if v:print(df_urbansound.head())"
   ]
  },
  {
   "cell_type": "code",
   "execution_count": 6,
   "metadata": {},
   "outputs": [],
   "source": [
    "paths = [os.path.join(\"downloads/UrbanSound8K/audio\", f\"fold{x['fold']}\", x[\"slice_file_name\"]) for _, x in df_urbansound.iterrows()]"
   ]
  },
  {
   "cell_type": "markdown",
   "metadata": {},
   "source": [
    "---"
   ]
  },
  {
   "cell_type": "code",
   "execution_count": 7,
   "metadata": {},
   "outputs": [],
   "source": [
    "df_fma = pd.read_csv(\"downloads/fma_metadata/tracks.csv\", header=[0, 1], index_col=0)\n",
    "indexes_small = df_fma.index[df_fma[\"set\", \"subset\"] == \"small\"]\n",
    "df_fma_small = df_fma.loc[indexes_small]\n",
    "del df_fma\n",
    "if v:df_fma_small[\"track\", \"genre_top\"].value_counts()"
   ]
  },
  {
   "cell_type": "code",
   "execution_count": 8,
   "metadata": {},
   "outputs": [],
   "source": [
    "genres = pd.read_csv(\"downloads/fma_metadata/genres.csv\", index_col=0)\n",
    "if v:print(genres.head())"
   ]
  },
  {
   "cell_type": "code",
   "execution_count": 9,
   "metadata": {},
   "outputs": [],
   "source": [
    "temp = df_fma_small[\"track\", \"genres_all\"]\\\n",
    ".map(lambda x: x.replace(\"[\", \"\").replace(\"]\", \"\").replace(\"'\", \"\").split(\", \"))\\\n",
    ".map(lambda x: [genres.loc[int(i)][\"title\"] for i in x])\n",
    "\n",
    "if v:print(temp.tail())"
   ]
  },
  {
   "cell_type": "code",
   "execution_count": 10,
   "metadata": {},
   "outputs": [],
   "source": [
    "dict_ind = {index:genre for index, genre in zip(df_fma_small.index, df_fma_small[\"track\", \"genre_top\"])}"
   ]
  }
 ],
 "metadata": {
  "kernelspec": {
   "display_name": "Python 3",
   "language": "python",
   "name": "python3"
  },
  "language_info": {
   "codemirror_mode": {
    "name": "ipython",
    "version": 3
   },
   "file_extension": ".py",
   "mimetype": "text/x-python",
   "name": "python",
   "nbconvert_exporter": "python",
   "pygments_lexer": "ipython3",
   "version": "3.10.12"
  }
 },
 "nbformat": 4,
 "nbformat_minor": 2
}
