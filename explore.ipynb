{
 "cells": [
  {
   "cell_type": "markdown",
   "metadata": {},
   "source": [
    "Notebook to explore the data and create the torch Dataset for the 3 datasets."
   ]
  },
  {
   "cell_type": "code",
   "execution_count": 9,
   "metadata": {},
   "outputs": [],
   "source": [
    "v = False # Set to True to see more output"
   ]
  },
  {
   "cell_type": "code",
   "execution_count": 10,
   "metadata": {},
   "outputs": [],
   "source": [
    "import os\n",
    "import pandas as pd"
   ]
  },
  {
   "cell_type": "code",
   "execution_count": 11,
   "metadata": {},
   "outputs": [],
   "source": [
    "if v:print(os.listdir(\"downloads\"))\n",
    "# [\"ESC-50-master\", \"fma_metadata\", \"fma_small\", \"UrbanSound8K\"]"
   ]
  },
  {
   "cell_type": "code",
   "execution_count": 12,
   "metadata": {},
   "outputs": [],
   "source": [
    "df_urbansound = pd.read_csv(\"downloads/UrbanSound8K/metadata/UrbanSound8K.csv\")\n",
    "\n",
    "if v:print(df_urbansound[\"class\"].value_counts())\n",
    "\n",
    "if v:print(df_urbansound.head())"
   ]
  },
  {
   "cell_type": "code",
   "execution_count": 14,
   "metadata": {},
   "outputs": [],
   "source": [
    "paths = [os.path.join(\"downloads/UrbanSound8K/audio\", f\"fold{x['fold']}\", x[\"slice_file_name\"]) for _, x in df_urbansound.iterrows()]"
   ]
  },
  {
   "cell_type": "markdown",
   "metadata": {},
   "source": [
    "---"
   ]
  },
  {
   "cell_type": "code",
   "execution_count": 15,
   "metadata": {},
   "outputs": [],
   "source": [
    "df_fma = pd.read_csv(\"downloads/fma_metadata/tracks.csv\", header=[0, 1], index_col=0)\n",
    "indexes_small = df_fma.index[df_fma[\"set\", \"subset\"] == \"small\"]\n",
    "df_fma_small = df_fma.loc[indexes_small]\n",
    "del df_fma\n",
    "if v:df_fma_small[\"track\", \"genre_top\"].value_counts()"
   ]
  },
  {
   "cell_type": "code",
   "execution_count": 16,
   "metadata": {},
   "outputs": [],
   "source": [
    "genres = pd.read_csv(\"downloads/fma_metadata/genres.csv\", index_col=0)\n",
    "if v:print(genres.head())"
   ]
  },
  {
   "cell_type": "code",
   "execution_count": 17,
   "metadata": {},
   "outputs": [],
   "source": [
    "temp = df_fma_small[\"track\", \"genres_all\"]\\\n",
    ".map(lambda x: x.replace(\"[\", \"\").replace(\"]\", \"\").replace(\"'\", \"\").split(\", \"))\\\n",
    ".map(lambda x: [genres.loc[int(i)][\"title\"] for i in x])\n",
    "\n",
    "if v:print(temp.tail())"
   ]
  },
  {
   "cell_type": "code",
   "execution_count": 20,
   "metadata": {},
   "outputs": [],
   "source": [
    "dict_ind = {index:genre for index, genre in zip(df_fma_small.index, df_fma_small[\"track\", \"genre_top\"])}\n",
    "\n",
    "dict_ind_plus = {index:\",\".join(genre) for index, genre in zip(df_fma_small.index, temp)}\n",
    "\n",
    "final_dict = {\n",
    "    index : f\"Genre: {dict_ind[index]} | Tags: {dict_ind_plus[index].replace(',',';')}\" for index in dict_ind.keys()\n",
    "}\n",
    "\n",
    "df_genre = pd.DataFrame.from_dict(final_dict, orient=\"index\", columns=[\"Genre\"])\n",
    "\n",
    "#df_genre.to_csv(\"genre.csv\") # Uncomment to save to csv"
   ]
  },
  {
   "cell_type": "code",
   "execution_count": 39,
   "metadata": {},
   "outputs": [
    {
     "name": "stdout",
     "output_type": "stream",
     "text": [
      "123094\n",
      "Found\n",
      "/nasbrain/j21lys/DL_2023_CLAP/downloads/fma_small/123/123094.mp3\n"
     ]
    }
   ],
   "source": [
    "# Guess the genre\n",
    "\n",
    "import random as rd\n",
    "import os\n",
    "\n",
    "# {'Experimental', 'Rock', 'Electronic', 'Folk', 'Pop', 'Instrumental', 'Hip-Hop', 'International'}\n",
    "\n",
    "index = rd.choice(list(final_dict.keys()))\n",
    "\n",
    "print(index)\n",
    "def search(ind, root):\n",
    "    for subdir, dirs, files in os.walk(root):\n",
    "        for file in files:\n",
    "            filename = file.split(\".\")[0]\n",
    "            if all([c in \"0123456789\" for c in filename]):\n",
    "                filename = int(filename)\n",
    "            else:\n",
    "                continue    \n",
    "            if filename == ind:\n",
    "                print(\"Found\")\n",
    "                return os.path.join(subdir, file)\n",
    "            \n",
    "path = search(index, \"downloads/fma_small\")\n",
    "\n",
    "print(os.path.join(os.getcwd(), path))"
   ]
  },
  {
   "cell_type": "code",
   "execution_count": 40,
   "metadata": {},
   "outputs": [
    {
     "name": "stdout",
     "output_type": "stream",
     "text": [
      "Wrong! The correct answer is Folk\n",
      "Details Genre: Folk | Tags: Folk;Singer-Songwriter\n"
     ]
    }
   ],
   "source": [
    "choice = input(\"Genre of the song: \")\n",
    "\n",
    "if choice.lower() == dict_ind[index].lower():\n",
    "    print(\"Correct!\")\n",
    "else:\n",
    "    print(f\"Wrong! The correct answer is {dict_ind[index]}\")\n",
    "\n",
    "print(\"Details\", final_dict[index])"
   ]
  }
 ],
 "metadata": {
  "kernelspec": {
   "display_name": "Python 3",
   "language": "python",
   "name": "python3"
  },
  "language_info": {
   "codemirror_mode": {
    "name": "ipython",
    "version": 3
   },
   "file_extension": ".py",
   "mimetype": "text/x-python",
   "name": "python",
   "nbconvert_exporter": "python",
   "pygments_lexer": "ipython3",
   "version": "3.10.12"
  }
 },
 "nbformat": 4,
 "nbformat_minor": 2
}
